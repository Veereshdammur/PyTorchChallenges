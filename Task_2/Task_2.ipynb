{
 "cells": [
  {
   "cell_type": "code",
   "execution_count": 1,
   "metadata": {},
   "outputs": [],
   "source": [
    "import numpy as np\n",
    "import torch"
   ]
  },
  {
   "cell_type": "markdown",
   "metadata": {},
   "source": [
    "1) There is torch Tensor a = ([0.4,0.2,0.5,0.6,0.8]). Create binary random numbers (0 or 1) from a Bernoulli distribution where probability based on a"
   ]
  },
  {
   "cell_type": "code",
   "execution_count": 3,
   "metadata": {},
   "outputs": [],
   "source": [
    "torch.manual_seed(23)\n",
    "a = torch.tensor([0.4,0.2,0.5,0.6,0.8])\n",
    "res = torch.bernoulli(a)\n",
    "assert np.allclose(res.numpy(),[0., 0., 1., 1., 0.]),\"Not the same!\""
   ]
  },
  {
   "cell_type": "markdown",
   "metadata": {},
   "source": [
    "2) There is tensor a with shape = (5,5) and tensor index_cols = [1,3]. Select columns from a with indexes = index_cols"
   ]
  },
  {
   "cell_type": "code",
   "execution_count": 6,
   "metadata": {},
   "outputs": [
    {
     "data": {
      "text/plain": [
       "tensor([[1, 6, 6, 7, 0],\n",
       "        [2, 7, 1, 4, 7],\n",
       "        [5, 6, 3, 7, 8],\n",
       "        [7, 5, 2, 9, 8],\n",
       "        [1, 9, 5, 0, 8]])"
      ]
     },
     "execution_count": 6,
     "metadata": {},
     "output_type": "execute_result"
    }
   ],
   "source": [
    "torch.manual_seed(23)\n",
    "a = torch.randint(0,10,(5,5))\n",
    "a\n"
   ]
  },
  {
   "cell_type": "code",
   "execution_count": 11,
   "metadata": {},
   "outputs": [],
   "source": [
    "index_cols= torch.tensor([1, 3])\n",
    "res = a[:, index_cols]\n",
    "assert np.allclose(res.numpy(),[[6, 7],\n",
    "                                [7, 4],\n",
    "                                [6, 7],\n",
    "                                [5, 9],\n",
    "                                [9, 0]]),\"Not the same!\""
   ]
  },
  {
   "cell_type": "markdown",
   "metadata": {},
   "source": [
    "There is a tensor a = torch.tensor([1,3,2,4]). Create new tensor b, where each values repeat this value times"
   ]
  },
  {
   "cell_type": "code",
   "execution_count": 40,
   "metadata": {},
   "outputs": [
    {
     "data": {
      "text/plain": [
       "tensor([1., 3., 3., 3., 2., 2., 4., 4., 4., 4.], dtype=torch.float64)"
      ]
     },
     "execution_count": 40,
     "metadata": {},
     "output_type": "execute_result"
    }
   ],
   "source": [
    "a = torch.tensor([1,3,2,4])\n",
    "np_a = a.numpy()\n",
    "np_b = np.ones(np_a.sum())\n",
    "#np_b\n",
    "lst = []\n",
    "for j in a:\n",
    "    arr = j*np.ones(j, dtype=np.float64)\n",
    "    lst.append(arr)\n",
    "b = torch.cat(lst)    \n",
    "b"
   ]
  },
  {
   "cell_type": "code",
   "execution_count": 41,
   "metadata": {},
   "outputs": [],
   "source": [
    "assert np.allclose(b,[1, 3, 3, 3, 2, 2, 4, 4, 4, 4]),\"Not the same!\""
   ]
  },
  {
   "cell_type": "code",
   "execution_count": null,
   "metadata": {},
   "outputs": [],
   "source": []
  }
 ],
 "metadata": {
  "kernelspec": {
   "display_name": "Python 3",
   "language": "python",
   "name": "python3"
  },
  "language_info": {
   "codemirror_mode": {
    "name": "ipython",
    "version": 3
   },
   "file_extension": ".py",
   "mimetype": "text/x-python",
   "name": "python",
   "nbconvert_exporter": "python",
   "pygments_lexer": "ipython3",
   "version": "3.6.9"
  }
 },
 "nbformat": 4,
 "nbformat_minor": 2
}

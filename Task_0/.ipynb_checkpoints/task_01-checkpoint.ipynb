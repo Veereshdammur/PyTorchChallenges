{
 "cells": [
  {
   "cell_type": "code",
   "execution_count": 1,
   "metadata": {},
   "outputs": [],
   "source": [
    "# import librabries\n",
    "import numpy as np\n",
    "import torch "
   ]
  },
  {
   "cell_type": "markdown",
   "metadata": {},
   "source": [
    "**1)** Create tensor with shape (10,10) and fill it with value 23"
   ]
  },
  {
   "cell_type": "code",
   "execution_count": 2,
   "metadata": {},
   "outputs": [
    {
     "name": "stdout",
     "output_type": "stream",
     "text": [
      "tensor([[23., 23., 23., 23., 23., 23., 23., 23., 23., 23.],\n",
      "        [23., 23., 23., 23., 23., 23., 23., 23., 23., 23.],\n",
      "        [23., 23., 23., 23., 23., 23., 23., 23., 23., 23.],\n",
      "        [23., 23., 23., 23., 23., 23., 23., 23., 23., 23.],\n",
      "        [23., 23., 23., 23., 23., 23., 23., 23., 23., 23.],\n",
      "        [23., 23., 23., 23., 23., 23., 23., 23., 23., 23.],\n",
      "        [23., 23., 23., 23., 23., 23., 23., 23., 23., 23.],\n",
      "        [23., 23., 23., 23., 23., 23., 23., 23., 23., 23.],\n",
      "        [23., 23., 23., 23., 23., 23., 23., 23., 23., 23.],\n",
      "        [23., 23., 23., 23., 23., 23., 23., 23., 23., 23.]])\n"
     ]
    }
   ],
   "source": [
    "arr = np.ones(shape=(10, 10), dtype = np.float32)*23\n",
    "tensor = torch.tensor(arr, dtype= torch.float32)\n",
    "print(tensor)"
   ]
  },
  {
   "cell_type": "markdown",
   "metadata": {},
   "source": [
    "**2)** Split tensor a on 3 chunks by rows"
   ]
  },
  {
   "cell_type": "code",
   "execution_count": 9,
   "metadata": {},
   "outputs": [
    {
     "name": "stdout",
     "output_type": "stream",
     "text": [
      "a tensor([[ 0,  1,  2,  3],\n",
      "        [ 4,  5,  6,  7],\n",
      "        [ 8,  9, 10, 11],\n",
      "        [12, 13, 14, 15],\n",
      "        [16, 17, 18, 19],\n",
      "        [20, 21, 22, 23],\n",
      "        [24, 25, 26, 27]]) \n",
      "\n",
      "chunk 1 tensor([[ 0,  1,  2,  3],\n",
      "        [ 4,  5,  6,  7],\n",
      "        [ 8,  9, 10, 11]])\n",
      "\n",
      "\n",
      "chunk 2 tensor([[12, 13, 14, 15],\n",
      "        [16, 17, 18, 19],\n",
      "        [20, 21, 22, 23]])\n",
      "\n",
      "\n",
      "chunk 3 tensor([[24, 25, 26, 27]])\n"
     ]
    }
   ],
   "source": [
    "a = torch.arange(28).reshape(7,-1)\n",
    "print(\"a\", a, \"\\n\")\n",
    "chunks_a = torch.chunk(a, chunks=3)\n",
    "print(\"chunk 1:\", chunks_a[0])\n",
    "print(\"\\n\")\n",
    "print(\"chunk 2:\", chunks_a[1])\n",
    "print(\"\\n\")\n",
    "print(\"chunk 3:\", chunks_a[2])"
   ]
  },
  {
   "cell_type": "markdown",
   "metadata": {},
   "source": [
    "**Note** : Torch.chunk divides the input into equal number of chunks. if tensor row is not divided by number of chunks, then last chunk will be smaller than the rest of the chunks. "
   ]
  },
  {
   "cell_type": "markdown",
   "metadata": {},
   "source": [
    "\n",
    "\n",
    "\n",
    "\n",
    "**3)** Create tensor from 1.2 to 1.5 with 8 values between this 2 and same distance"
   ]
  },
  {
   "cell_type": "code",
   "execution_count": 13,
   "metadata": {},
   "outputs": [],
   "source": [
    "x = torch.linspace(1.2, 1.5, 10)\n",
    "assert np.allclose(x,[1.2000, 1.2333, 1.2667, \n",
    "                      1.3000, 1.3333, 1.3667, \n",
    "                      1.4000, 1.4333, 1.4667, 1.5000],rtol=1e-3), \"Not the Same\""
   ]
  },
  {
   "cell_type": "code",
   "execution_count": null,
   "metadata": {},
   "outputs": [],
   "source": []
  }
 ],
 "metadata": {
  "kernelspec": {
   "display_name": "Python 3",
   "language": "python",
   "name": "python3"
  },
  "language_info": {
   "codemirror_mode": {
    "name": "ipython",
    "version": 3
   },
   "file_extension": ".py",
   "mimetype": "text/x-python",
   "name": "python",
   "nbconvert_exporter": "python",
   "pygments_lexer": "ipython3",
   "version": "3.6.9"
  }
 },
 "nbformat": 4,
 "nbformat_minor": 2
}
